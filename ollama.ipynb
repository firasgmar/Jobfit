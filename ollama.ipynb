{
 "cells": [
  {
   "cell_type": "code",
   "execution_count": 1,
   "metadata": {},
   "outputs": [
    {
     "name": "stdout",
     "output_type": "stream",
     "text": [
      "Requirement already satisfied: ollama in c:\\users\\161\\pythonrepository\\.venv\\lib\\site-packages (0.2.1)\n",
      "Requirement already satisfied: httpx<0.28.0,>=0.27.0 in c:\\users\\161\\pythonrepository\\.venv\\lib\\site-packages (from ollama) (0.27.0)\n",
      "Requirement already satisfied: anyio in c:\\users\\161\\pythonrepository\\.venv\\lib\\site-packages (from httpx<0.28.0,>=0.27.0->ollama) (4.4.0)\n",
      "Requirement already satisfied: certifi in c:\\users\\161\\pythonrepository\\.venv\\lib\\site-packages (from httpx<0.28.0,>=0.27.0->ollama) (2024.6.2)\n",
      "Requirement already satisfied: httpcore==1.* in c:\\users\\161\\pythonrepository\\.venv\\lib\\site-packages (from httpx<0.28.0,>=0.27.0->ollama) (1.0.5)\n",
      "Requirement already satisfied: idna in c:\\users\\161\\pythonrepository\\.venv\\lib\\site-packages (from httpx<0.28.0,>=0.27.0->ollama) (3.7)\n",
      "Requirement already satisfied: sniffio in c:\\users\\161\\pythonrepository\\.venv\\lib\\site-packages (from httpx<0.28.0,>=0.27.0->ollama) (1.3.1)\n",
      "Requirement already satisfied: h11<0.15,>=0.13 in c:\\users\\161\\pythonrepository\\.venv\\lib\\site-packages (from httpcore==1.*->httpx<0.28.0,>=0.27.0->ollama) (0.14.0)\n"
     ]
    },
    {
     "name": "stderr",
     "output_type": "stream",
     "text": [
      "\n",
      "[notice] A new release of pip is available: 24.1 -> 24.1.1\n",
      "[notice] To update, run: python.exe -m pip install --upgrade pip\n"
     ]
    }
   ],
   "source": [
    "!pip install ollama"
   ]
  },
  {
   "cell_type": "code",
   "execution_count": 1,
   "metadata": {},
   "outputs": [],
   "source": [
    "from ollama import Client\n",
    "import ollama\n",
    "client = Client(host='http://localhost:11434')\n",
    "\n"
   ]
  },
  {
   "cell_type": "code",
   "execution_count": 2,
   "metadata": {},
   "outputs": [],
   "source": [
    "import fitz\n",
    "import re\n",
    "def extract_text_from_pdf(pdf_path):\n",
    "    doc = fitz.open(pdf_path)\n",
    "    text = \"\"\n",
    "    for page_num in range(len(doc)):\n",
    "        page = doc.load_page(page_num)\n",
    "        text += page.get_text()\n",
    "    return text\n",
    "def clean_extracted_text(text):\n",
    "      # Supprimer les espaces multiples\n",
    "      text = re.sub(r'\\s+', ' ', text)\n",
    "      # Supprimer les nouvelles lignes multiples\n",
    "      text = re.sub(r'\\n+', '\\n', text)\n",
    "      return text"
   ]
  },
  {
   "cell_type": "code",
   "execution_count": 3,
   "metadata": {},
   "outputs": [],
   "source": [
    "import os\n",
    "dossier_pdf='C:\\\\Users\\\\161\\\\PythonRepository\\\\jobfit\\\\cv'\n",
    "for filename in os.listdir(dossier_pdf):\n",
    "        if filename.endswith('.pdf'):\n",
    "            filename='Aymen__Hmid_CV.pdf'\n",
    "            resume_path = os.path.join(dossier_pdf, filename)\n",
    "            #print(resume_path)\n",
    "            text = extract_text_from_pdf(resume_path)\n",
    "            clean_text = clean_extracted_text(text)"
   ]
  },
  {
   "cell_type": "code",
   "execution_count": 6,
   "metadata": {},
   "outputs": [
    {
     "name": "stdout",
     "output_type": "stream",
     "text": [
      "The person's CV text mentions several projects they have worked on, including:\n",
      "\n",
      "- Crowd estimator application to predict the size of a crowd given an input image.\n",
      "- Professional Career Engine to assist people choose the career that fits them in Computer Vision Intern at XPR Ý Aug 2020 – Sep 2020 in Tunis, Tunisia. He developed and deployed a CNN network to predict the size of a crowd given an input image through Python, OpenCV, YOLO, Faster R-CNN, Tesseract, NER.\n",
      "- A mental health chatbot designed specifically for university students by his team at NEURODATA. He used BERT to fine-tune the model and created a prototype based on its ability to extract useful fields from invoices and receipts through Python, C/C++, SQL, MongoDB, Power BI, Tableau, Pandas, NumPy, Flask/Django, Pytorch/Tensorflow.\n",
      "- Predicting the estimated time of arrival (ETA) for motorbike deliveries in Nairoby by using a custom-built legal document OCR model to extract useful information from legal documents through Python, C/C++, Faster R-CNN, Tesseract, Embeddings, Transformers, and BERT. He also used OpenCV, MongoDB, Power BI, Tableau, Pandas, NumPy, Flask/Django, Pytorch/Tensorflow.\n",
      "- A course at City Hack in Tunisia where he was able to compete for the top spot with other people from his team at UmojaHack Tunisia using a custom-built OCR model and SKILLS Python C/C++ SQL MongoDB Power BI Tableau Pandas Numpy Flask/Django Pytorch/Tensorflow.\n",
      "\n",
      "In addition, the CV mentions that he is also a trained linguist in Arabic and English.\n"
     ]
    }
   ],
   "source": [
    "response = ollama.chat(model='qwen2:0.5b', messages=[\n",
    "        #{\"role\": \"system\", \"content\": \"Return the name of the person in CV data in this format  Name:  \"},\n",
    "        {\"role\": \"user\", \"content\": f\"return the person name from CV Text :{clean_text}. in python dictionnay format\"}\n",
    "    ])\n",
    "print(response['message']['content'])"
   ]
  },
  {
   "cell_type": "code",
   "execution_count": 24,
   "metadata": {},
   "outputs": [
    {
     "data": {
      "text/plain": [
       "\"Here is the extracted phone number:\\n\\n`{'phone number': '+216 22498623'}`\\n\\nNote that I've wrapped the phone number in a dictionary with a single key-value pair, as per your request. Let me know if you need anything else!\""
      ]
     },
     "execution_count": 24,
     "metadata": {},
     "output_type": "execute_result"
    }
   ],
   "source": [
    "res=client.generate(model=\"llama3\"\n",
    "    ,system=\"you are a system function find_phone_number(user_prompt) return type dict : {'phone number': <number>}\"\n",
    "    ,prompt=f\"{clean_text}.\")\n",
    "res['response']"
   ]
  },
  {
   "cell_type": "code",
   "execution_count": 9,
   "metadata": {},
   "outputs": [],
   "source": [
    "res=ollama.generate(model=\"qwen2:0.5b\"\n",
    "#,system=\"you do as a python function how return phone number from user input as dict format . if not found return None\"\n",
    ",prompt=f\"return phone number from this text in a dictionnaty format 'phone number'. Text:  {clean_text} \")\n",
    "print(response['message']['content'])"
   ]
  },
  {
   "cell_type": "code",
   "execution_count": 6,
   "metadata": {},
   "outputs": [
    {
     "ename": "TypeError",
     "evalue": "Client.chat() got an unexpected keyword argument 'system'",
     "output_type": "error",
     "traceback": [
      "\u001b[1;31m---------------------------------------------------------------------------\u001b[0m",
      "\u001b[1;31mTypeError\u001b[0m                                 Traceback (most recent call last)",
      "Cell \u001b[1;32mIn[6], line 1\u001b[0m\n\u001b[1;32m----> 1\u001b[0m res\u001b[38;5;241m=\u001b[39m\u001b[43mollama\u001b[49m\u001b[38;5;241;43m.\u001b[39;49m\u001b[43mchat\u001b[49m\u001b[43m(\u001b[49m\u001b[43mmodel\u001b[49m\u001b[38;5;241;43m=\u001b[39;49m\u001b[38;5;124;43m\"\u001b[39;49m\u001b[38;5;124;43mmistral\u001b[39;49m\u001b[38;5;124;43m\"\u001b[39;49m\n\u001b[0;32m      2\u001b[0m \u001b[43m,\u001b[49m\u001b[43msystem\u001b[49m\u001b[38;5;241;43m=\u001b[39;49m\u001b[38;5;124;43m\"\u001b[39;49m\u001b[38;5;124;43myou do as a python function how return phone number from user input as dict format \u001b[39;49m\u001b[38;5;124;43m{\u001b[39;49m\u001b[38;5;124;43m'\u001b[39;49m\u001b[38;5;124;43mphone number\u001b[39;49m\u001b[38;5;124;43m'\u001b[39;49m\u001b[38;5;124;43m:  }. if not found return None\u001b[39;49m\u001b[38;5;124;43m\"\u001b[39;49m\n\u001b[0;32m      3\u001b[0m \n\u001b[0;32m      4\u001b[0m \u001b[43m                \u001b[49m\u001b[43m,\u001b[49m\u001b[43mprompt\u001b[49m\u001b[38;5;241;43m=\u001b[39;49m\u001b[38;5;124;43mf\u001b[39;49m\u001b[38;5;124;43m\"\u001b[39;49m\u001b[38;5;124;43mfrom this text:\u001b[39;49m\u001b[38;5;132;43;01m{\u001b[39;49;00m\u001b[43mclean_text\u001b[49m\u001b[38;5;132;43;01m}\u001b[39;49;00m\u001b[38;5;124;43m. the phone number is...?\u001b[39;49m\u001b[38;5;124;43m\"\u001b[39;49m\u001b[43m)\u001b[49m\n\u001b[0;32m      5\u001b[0m \u001b[38;5;28mprint\u001b[39m(response[\u001b[38;5;124m'\u001b[39m\u001b[38;5;124mmessage\u001b[39m\u001b[38;5;124m'\u001b[39m][\u001b[38;5;124m'\u001b[39m\u001b[38;5;124mcontent\u001b[39m\u001b[38;5;124m'\u001b[39m])\n",
      "\u001b[1;31mTypeError\u001b[0m: Client.chat() got an unexpected keyword argument 'system'"
     ]
    }
   ],
   "source": [
    "res=ollama.chat(model=\"mistral\"\n",
    ",system=\"you do as a python function how return phone number from user input as dict format {'phone number':  }. if not found return None\"\n",
    "\n",
    "                ,prompt=f\"from this text:{clean_text}. the phone number is...?\")\n",
    "print(response['message']['content'])"
   ]
  },
  {
   "cell_type": "code",
   "execution_count": 26,
   "metadata": {},
   "outputs": [
    {
     "name": "stdout",
     "output_type": "stream",
     "text": [
      "[{'name': '', 'contact_number': '', 'email': '', 'Tools': [''], 'skills': [''], 'Profile_description': \"Étudiant en 2ème année de Master Business & Data Analytics, Je suis à la recherche d'un Stage de PFE d'une durée de 4 à 6 mois dans les domaines de : Data Analytics | Business Intelligence | Marketing Analytics | CRM | Data Visualization..\", 'education_levels': [{'establishment': 'Esprit School of Business', 'level': 'Master professionnel en Business & Data Analytics'}, {'establishment': 'IHEC Carthage', 'level': 'Licence fondamentale en gestion spécialité Marketing'}, {'establishment': 'Lycée Carthage Byrsa', 'level': 'Diplôme du Baccalauréat, section Economie&Gestion'}], 'Professional_experience': [{'establishment': 'Lumière Formation', 'job': 'Consultant en développement commercial et marketing', 'Period in months': '2', 'start_year': '2019', 'end_year': '2019', 'description': '- Prospection et prise de contact avec les clients. - Visite des entreprises et proposition des catalogues de formations. - Structuration et renforcement de la communication des réseaux sociaux (Linkedin, Facebook, Viadeo..)'}, {'establishment': 'Groupe Chimque Tunisien', 'job': 'Assistant comptable', 'Period in months': '', 'start_year': '2016', 'end_year': '2016', 'description': '- Suivi des engagements (Règlement de factures). - Comptabilisation des mouvements de trésorerie. - Familiarisation avec le monde professionnel.'}], 'Languages': [{'Language': 'Arabe', 'Level': 'Langue maternelle'}, {'Language': 'Français', 'Level': 'Courant'}, {'Language': 'Anglais', 'Level': 'Professionnel'}, {'Language': 'Italien', 'Level': 'Niveau scolaire'}]}]\n",
      "Liste des personnes\n",
      "[{'name': '', 'contact_number': '', 'email': '', 'Tools': [''], 'skills': [''], 'Profile_description': \"Étudiant en 2ème année de Master Business & Data Analytics, Je suis à la recherche d'un Stage de PFE d'une durée de 4 à 6 mois dans les domaines de : Data Analytics | Business Intelligence | Marketing Analytics | CRM | Data Visualization..\", 'education_levels': [{'establishment': 'Esprit School of Business', 'level': 'Master professionnel en Business & Data Analytics'}, {'establishment': 'IHEC Carthage', 'level': 'Licence fondamentale en gestion spécialité Marketing'}, {'establishment': 'Lycée Carthage Byrsa', 'level': 'Diplôme du Baccalauréat, section Economie&Gestion'}], 'Professional_experience': [{'establishment': 'Lumière Formation', 'job': 'Consultant en développement commercial et marketing', 'Period in months': '2', 'start_year': '2019', 'end_year': '2019', 'description': '- Prospection et prise de contact avec les clients. - Visite des entreprises et proposition des catalogues de formations. - Structuration et renforcement de la communication des réseaux sociaux (Linkedin, Facebook, Viadeo..)'}, {'establishment': 'Groupe Chimque Tunisien', 'job': 'Assistant comptable', 'Period in months': '', 'start_year': '2016', 'end_year': '2016', 'description': '- Suivi des engagements (Règlement de factures). - Comptabilisation des mouvements de trésorerie. - Familiarisation avec le monde professionnel.'}], 'Languages': [{'Language': 'Arabe', 'Level': 'Langue maternelle'}, {'Language': 'Français', 'Level': 'Courant'}, {'Language': 'Anglais', 'Level': 'Professionnel'}, {'Language': 'Italien', 'Level': 'Niveau scolaire'}]}]\n",
      "  name contact_number email Tools skills  \\\n",
      "0                              []     []   \n",
      "\n",
      "                                 Profile_description  \\\n",
      "0  Étudiant en 2ème année de Master Business & Da...   \n",
      "\n",
      "                                    education_levels  \\\n",
      "0  [{'establishment': 'Esprit School of Business'...   \n",
      "\n",
      "                             Professional_experience  \\\n",
      "0  [{'establishment': 'Lumière Formation', 'job':...   \n",
      "\n",
      "                                           Languages  \n",
      "0  [{'Language': 'Arabe', 'Level': 'Langue matern...  \n"
     ]
    }
   ],
   "source": [
    "import streamlit as st\n",
    "import pandas as pd\n",
    "import os\n",
    "import json\n",
    "def load_json_files(directory):\n",
    "    data = []\n",
    "    for filename in os.listdir(directory):\n",
    "        if filename.endswith(\".json\"):\n",
    "            with open(os.path.join(directory, filename), 'r', encoding='utf-8') as f:\n",
    "                data.append(json.load(f))\n",
    "    return data\n",
    "directory=\"C:\\\\Users\\\\161\\\\PythonRepository\\\\jobfit\\\\cv\"\n",
    "if directory:\n",
    "        # Charger les fichiers JSON\n",
    "        json_data = load_json_files(directory)\n",
    "        print(json_data)\n",
    "        # Créer un DataFrame\n",
    "        df = pd.json_normalize(json_data)\n",
    "\n",
    "        # Afficher la liste des personnes dans un tableau\n",
    "        print(\"Liste des personnes\")\n",
    "        print(json_data)\n",
    "        print(df.head())\n",
    "\n",
    "else:\n",
    "    print(\"Veuillez entrer le chemin du dossier contenant les fichiers JSON\")"
   ]
  },
  {
   "cell_type": "code",
   "execution_count": 28,
   "metadata": {},
   "outputs": [
    {
     "name": "stdout",
     "output_type": "stream",
     "text": [
      "[{'name': 'FIRAS GMAR', 'contact_number': '98 107 578', 'email': 'gmarfiras@gmail.com', 'Tools': ['Microsoft SQL Server', 'Power BI', 'QlikView', 'Oracle Entreprise One', 'Microsoft Visual Basic', 'Microsoft Office 365'], 'skills': ['Analyse fonctionnelle', 'Développement de logiciels et applications', \"Gestion de l'infrastructure informatique\", 'Business Intelligence (BI)', 'Migration et mise à niveau des systèmes informatiques', 'Administration des systèmes informatique', 'Métier et technique', 'Gestion de la sécurité informatique'], 'Profile_description': \"Je suis un professionnel de l'informatique polyvalent avec une expérience solide de plus de 15 ans dans l'analyse fonctionnelle, le développement, la gestion de l'infrastructure, la BI et l ERP.\", 'education_levels': [{'establishment': 'Institut supérieure de gestion de Tunis', 'level': 'Maitrise en Informatique appliqué à la gestion', 'start_year': '2005'}], 'Professional_experience': [{'establishment': 'Groupe DELICE', 'job': 'Manager senior BI & Data sciences', 'Period in months': '', 'start_year': '2020', 'end_year': '', 'description': \"Superviser le développement de rapports et de tableaux de bord BI pour l'entreprise, en utilisant des outils tels que PowerBI. Traiter et analyser les données pour produire des informations utiles et significatives pour les décideurs de l'entreprise.\"}, {'establishment': 'Groupe DELICE', 'job': 'Chef de département IT', 'Period in months': '', 'start_year': '2010', 'end_year': '2020', 'description': \"Assurer la gestion de l'ensemble de l'infrastructure informatique de l'entreprise. Conception, mise en place et gestion du réseau informatique, des serveurs, des systèmes de stockage et de sauvegarde des données, ainsi que de la sécurité informatique.\"}], 'Languages': [], 'Achievements': '', 'Text_CV': \"Je suis un professionnel de l'informatique polyvalent avec une expérience solide de plus de 15 ans dans l'analyse fonctionnelle, le développement, la gestion de l'infrastructure, la BI et l ERP. Mon expertise en matière de gestion de projets et de développement de solutions innovantes a permis d'optimiser les processus métier de l'entreprise et d'augmenter son efficacité opérationnelle.\", 'Job_recommended': 'Data Scientist or Business Intelligence Manager'}]\n",
      "Liste des personnes\n",
      "         name contact_number                email  \\\n",
      "0  FIRAS GMAR     98 107 578  gmarfiras@gmail.com   \n",
      "\n",
      "                                               Tools  \\\n",
      "0  [Microsoft SQL Server, Power BI, QlikView, Ora...   \n",
      "\n",
      "                                              skills  \\\n",
      "0  [Analyse fonctionnelle, Développement de logic...   \n",
      "\n",
      "                                 Profile_description  \\\n",
      "0  Je suis un professionnel de l'informatique pol...   \n",
      "\n",
      "                                    education_levels  \\\n",
      "0  [{'establishment': 'Institut supérieure de ges...   \n",
      "\n",
      "                             Professional_experience Languages Achievements  \\\n",
      "0  [{'establishment': 'Groupe DELICE', 'job': 'Ma...        []                \n",
      "\n",
      "                                             Text_CV  \\\n",
      "0  Je suis un professionnel de l'informatique pol...   \n",
      "\n",
      "                                   Job_recommended  \n",
      "0  Data Scientist or Business Intelligence Manager  \n"
     ]
    }
   ],
   "source": [
    "def load_json_files(directory):\n",
    "    data = []\n",
    "    for filename in os.listdir(directory):\n",
    "        if filename.endswith(\".json\"):\n",
    "            with open(os.path.join(directory, filename), 'r', encoding='utf-8') as f:\n",
    "                data.append(json.load(f))\n",
    "    return data\n",
    "directory=\"C:\\\\Users\\\\161\\\\PythonRepository\\\\jobfit\\\\cv\"\n",
    "if directory:\n",
    "        # Charger les fichiers JSON\n",
    "        json_data = load_json_files(directory)\n",
    "        print(json_data)\n",
    "        # Créer un DataFrame\n",
    "        df = pd.json_normalize(json_data)\n",
    "\n",
    "        # Afficher la liste des personnes dans un tableau\n",
    "        print(\"Liste des personnes\")\n",
    "       \n",
    "        print(df.head())"
   ]
  },
  {
   "cell_type": "code",
   "execution_count": 29,
   "metadata": {},
   "outputs": [
    {
     "data": {
      "text/html": [
       "<div>\n",
       "<style scoped>\n",
       "    .dataframe tbody tr th:only-of-type {\n",
       "        vertical-align: middle;\n",
       "    }\n",
       "\n",
       "    .dataframe tbody tr th {\n",
       "        vertical-align: top;\n",
       "    }\n",
       "\n",
       "    .dataframe thead th {\n",
       "        text-align: right;\n",
       "    }\n",
       "</style>\n",
       "<table border=\"1\" class=\"dataframe\">\n",
       "  <thead>\n",
       "    <tr style=\"text-align: right;\">\n",
       "      <th></th>\n",
       "      <th>name</th>\n",
       "      <th>contact_number</th>\n",
       "      <th>email</th>\n",
       "      <th>Tools</th>\n",
       "      <th>skills</th>\n",
       "      <th>Profile_description</th>\n",
       "      <th>education_levels</th>\n",
       "      <th>Professional_experience</th>\n",
       "      <th>Languages</th>\n",
       "      <th>Achievements</th>\n",
       "      <th>Text_CV</th>\n",
       "      <th>Job_recommended</th>\n",
       "    </tr>\n",
       "  </thead>\n",
       "  <tbody>\n",
       "    <tr>\n",
       "      <th>0</th>\n",
       "      <td>FIRAS GMAR</td>\n",
       "      <td>98 107 578</td>\n",
       "      <td>gmarfiras@gmail.com</td>\n",
       "      <td>[Microsoft SQL Server, Power BI, QlikView, Ora...</td>\n",
       "      <td>[Analyse fonctionnelle, Développement de logic...</td>\n",
       "      <td>Je suis un professionnel de l'informatique pol...</td>\n",
       "      <td>[{'establishment': 'Institut supérieure de ges...</td>\n",
       "      <td>[{'establishment': 'Groupe DELICE', 'job': 'Ma...</td>\n",
       "      <td>[]</td>\n",
       "      <td></td>\n",
       "      <td>Je suis un professionnel de l'informatique pol...</td>\n",
       "      <td>Data Scientist or Business Intelligence Manager</td>\n",
       "    </tr>\n",
       "  </tbody>\n",
       "</table>\n",
       "</div>"
      ],
      "text/plain": [
       "         name contact_number                email  \\\n",
       "0  FIRAS GMAR     98 107 578  gmarfiras@gmail.com   \n",
       "\n",
       "                                               Tools  \\\n",
       "0  [Microsoft SQL Server, Power BI, QlikView, Ora...   \n",
       "\n",
       "                                              skills  \\\n",
       "0  [Analyse fonctionnelle, Développement de logic...   \n",
       "\n",
       "                                 Profile_description  \\\n",
       "0  Je suis un professionnel de l'informatique pol...   \n",
       "\n",
       "                                    education_levels  \\\n",
       "0  [{'establishment': 'Institut supérieure de ges...   \n",
       "\n",
       "                             Professional_experience Languages Achievements  \\\n",
       "0  [{'establishment': 'Groupe DELICE', 'job': 'Ma...        []                \n",
       "\n",
       "                                             Text_CV  \\\n",
       "0  Je suis un professionnel de l'informatique pol...   \n",
       "\n",
       "                                   Job_recommended  \n",
       "0  Data Scientist or Business Intelligence Manager  "
      ]
     },
     "execution_count": 29,
     "metadata": {},
     "output_type": "execute_result"
    }
   ],
   "source": [
    "df.head()"
   ]
  },
  {
   "cell_type": "code",
   "execution_count": 34,
   "metadata": {},
   "outputs": [
    {
     "ename": "IndentationError",
     "evalue": "expected an indented block after 'for' statement on line 10 (3963971835.py, line 12)",
     "output_type": "error",
     "traceback": [
      "\u001b[1;36m  Cell \u001b[1;32mIn[34], line 12\u001b[1;36m\u001b[0m\n\u001b[1;33m    else:\u001b[0m\n\u001b[1;37m    ^\u001b[0m\n\u001b[1;31mIndentationError\u001b[0m\u001b[1;31m:\u001b[0m expected an indented block after 'for' statement on line 10\n"
     ]
    }
   ],
   "source": [
    "def  parcourir_json(js):\n",
    "    df=pd.DataFrame()\n",
    "    if isinstance(js, dict):\n",
    "        for cle, valeur in js.items():\n",
    "            print(f'Clé: {cle}')\n",
    "            #parcourir_json(valeur)\n",
    "            df[cle]=valeur\n",
    "            print(df.head())\n",
    "    elif isinstance(js, list):\n",
    "        for element in js:\n",
    "            pass #parcourir_json(element)\n",
    "    else:\n",
    "        print(f'Valeur: {js}')\n",
    "for js in json_data:\n",
    "    parcourir_json(js)"
   ]
  }
 ],
 "metadata": {
  "kernelspec": {
   "display_name": ".venv",
   "language": "python",
   "name": "python3"
  },
  "language_info": {
   "codemirror_mode": {
    "name": "ipython",
    "version": 3
   },
   "file_extension": ".py",
   "mimetype": "text/x-python",
   "name": "python",
   "nbconvert_exporter": "python",
   "pygments_lexer": "ipython3",
   "version": "3.12.2"
  }
 },
 "nbformat": 4,
 "nbformat_minor": 2
}
